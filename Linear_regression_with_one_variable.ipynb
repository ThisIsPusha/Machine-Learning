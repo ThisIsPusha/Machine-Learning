{
  "nbformat": 4,
  "nbformat_minor": 0,
  "metadata": {
    "colab": {
      "provenance": []
    },
    "kernelspec": {
      "name": "python3",
      "display_name": "Python 3"
    },
    "language_info": {
      "name": "python"
    }
  },
  "cells": [
    {
      "cell_type": "markdown",
      "source": [
        "# **Problem Statement**"
      ],
      "metadata": {
        "id": "YuEIkoRXCo7G"
      }
    },
    {
      "cell_type": "markdown",
      "source": [
        "You will use the example of housing price prediction.\n",
        "We will use a simple data set with only two data points - a house with 1000 square feet(sqft) sold for 300,000 dollar and a house with 2000 square feet sold for $500,000. These two points will constitute our data or training set. In this lab, the units of size are 1000 sqft and the units of price are 1000s of dollars.\n",
        "\n",
        "\n",
        "![image.png](data:image/png;base64,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)"
      ],
      "metadata": {
        "id": "SdG05FDrCw6_"
      }
    },
    {
      "cell_type": "markdown",
      "source": [
        "**Task:**  fit a linear regression model to  predict price for other houses - say, a house with 1200 sqft."
      ],
      "metadata": {
        "id": "l0AGlRDiDifm"
      }
    },
    {
      "cell_type": "markdown",
      "source": [
        "Import important libraries\n",
        "\n",
        "NumPy, a popular library for scientific computing\n",
        "\n",
        "Matplotlib, a popular library for plotting data"
      ],
      "metadata": {
        "id": "c-cPA1fvCGLN"
      }
    },
    {
      "cell_type": "code",
      "source": [
        "import numpy as np\n",
        "import matplotlib.pyplot as plt"
      ],
      "metadata": {
        "id": "F83EjlHjCNkn"
      },
      "execution_count": 1,
      "outputs": []
    },
    {
      "cell_type": "code",
      "source": [
        "# x_train is the input variable (size in 1000 square feet)\n",
        "# y_train is the target (price in 1000s of dollars)\n",
        "x_train=np.array([1.0,2.0])\n",
        "y_train=np.array([300.0,500.0])\n",
        "print(f\"x_train: {x_train}\")\n",
        "print(f\"y_train: {y_train}\")"
      ],
      "metadata": {
        "colab": {
          "base_uri": "https://localhost:8080/"
        },
        "id": "yqT62VULCZsg",
        "outputId": "cf902004-d915-49e4-9b78-4e46f13defe3"
      },
      "execution_count": 5,
      "outputs": [
        {
          "output_type": "stream",
          "name": "stdout",
          "text": [
            "x_train: [1. 2.]\n",
            "y_train: [300. 500.]\n"
          ]
        }
      ]
    },
    {
      "cell_type": "markdown",
      "source": [
        "Number of training examples m\n",
        "\n",
        "We will use  m to denote the number of training examples. Numpy arrays have a .shape parameter. x_train.shape returns a python tuple with an entry for each dimension. x_train.shape[0] is the length of the array and number of examples as shown below."
      ],
      "metadata": {
        "id": "mKBq8M_5FIzB"
      }
    },
    {
      "cell_type": "code",
      "source": [
        "# m is the number of training examples\n",
        "print(f\" x_train.shape = {x_train.shape}\")\n",
        "m=x_train.shape[0]\n",
        "print(f\" x_train.shape[0] = {m}\")"
      ],
      "metadata": {
        "colab": {
          "base_uri": "https://localhost:8080/"
        },
        "id": "CnrIBA-CCc7r",
        "outputId": "194269b5-14bf-4756-8768-ca5233d6c737"
      },
      "execution_count": 6,
      "outputs": [
        {
          "output_type": "stream",
          "name": "stdout",
          "text": [
            " x_train.shape = (2,)\n",
            " x_train.shape[0] = 2\n"
          ]
        }
      ]
    },
    {
      "cell_type": "markdown",
      "source": [
        "One can also use the Python len() function as shown below."
      ],
      "metadata": {
        "id": "tJ2FRB9tFvPe"
      }
    },
    {
      "cell_type": "code",
      "source": [
        "m=len(x_train)\n",
        "print(f\"Number of training examples is: {m}\")"
      ],
      "metadata": {
        "colab": {
          "base_uri": "https://localhost:8080/"
        },
        "id": "82g7dGG6Fply",
        "outputId": "4f6ab739-d090-4f23-af06-3249d5408cb5"
      },
      "execution_count": 7,
      "outputs": [
        {
          "output_type": "stream",
          "name": "stdout",
          "text": [
            "Number of training examples is: 2\n"
          ]
        }
      ]
    },
    {
      "cell_type": "markdown",
      "source": [
        "**Training example x_i, y_i**\n",
        "\n",
        "You will use (x (𝑖) , y (𝑖) ) to denote the  𝑖𝑡ℎ  training example. Since Python is zero indexed, (x (0) , y (0) ) is (1.0, 300.0) and (x (1) , y (1) ) is (2.0, 500.0).\n",
        "\n",
        "To access a value in a Numpy array, one indexes the array with the desired offset. For example the syntax to access location zero of x_train is x_train[0]. Run the next code block below to get the  𝑖𝑡ℎ  training example."
      ],
      "metadata": {
        "id": "DavlL_fRGG93"
      }
    },
    {
      "cell_type": "code",
      "source": [
        "i=0\n",
        "x_i = x_train[i]\n",
        "y_i = y_train[i]\n",
        "print(f\"(x^({i}), y^({i})) = ({x_i}, {y_i})\")"
      ],
      "metadata": {
        "colab": {
          "base_uri": "https://localhost:8080/"
        },
        "id": "e3uA7M2TF5C5",
        "outputId": "87c73e02-d3de-45eb-c0da-ca1fbb12cd19"
      },
      "execution_count": 8,
      "outputs": [
        {
          "output_type": "stream",
          "name": "stdout",
          "text": [
            "(x^(0), y^(0)) = (1.0, 300.0)\n"
          ]
        }
      ]
    },
    {
      "cell_type": "code",
      "source": [
        "i=1\n",
        "x_i = x_train[i]\n",
        "y_i = y_train[i]\n",
        "print(f\"(x^({i}), y^({i})) = ({x_i}, {y_i})\")"
      ],
      "metadata": {
        "colab": {
          "base_uri": "https://localhost:8080/"
        },
        "id": "BG2-pr3GGgMY",
        "outputId": "8665bc65-93e0-487c-cde4-34fcebbd2620"
      },
      "execution_count": 9,
      "outputs": [
        {
          "output_type": "stream",
          "name": "stdout",
          "text": [
            "(x^(1), y^(1)) = (2.0, 500.0)\n"
          ]
        }
      ]
    },
    {
      "cell_type": "markdown",
      "source": [
        "**Plotting the data**\n",
        "\n",
        "You can plot these two points using the scatter() function in the matplotlib library, as shown in the cell below.\n",
        "\n",
        "The function arguments marker and c show the points as red crosses (the default is blue dots).\n",
        "You can use other functions in the matplotlib library to set the title and labels to display"
      ],
      "metadata": {
        "id": "KRugexfAGs-r"
      }
    },
    {
      "cell_type": "code",
      "source": [
        "#plot the data set\n",
        "plt.scatter(x_train, y_train, marker='x', c='r')\n",
        "#  set tthe title\n",
        "plt.title(\"House Price Prediction\")\n",
        "# Set the y-axis label\n",
        "plt.ylabel('Price (in 1000s of dollars)')\n",
        "# Set the x-axis label\n",
        "plt.xlabel('Size (1000 sqft)')\n",
        "plt.show()"
      ],
      "metadata": {
        "colab": {
          "base_uri": "https://localhost:8080/",
          "height": 295
        },
        "id": "oXSoSDoJGlw3",
        "outputId": "a2696fc9-f726-4fff-ecbf-a814cae9f8b1"
      },
      "execution_count": 10,
      "outputs": [
        {
          "output_type": "display_data",
          "data": {
            "text/plain": [
              "<Figure size 432x288 with 1 Axes>"
            ],
            "image/png": "[encoded data removed]"
          },
          "metadata": {
            "needs_background": "light"
          }
        }
      ]
    },
    {
      "cell_type": "markdown",
      "source": [
        "**Model function**\n",
        "\n",
        "The model function for linear regression (which is a function that maps from x to y) is represented as\n",
        "\n",
        "𝑓𝑤,𝑏(𝑥(𝑖))=𝑤𝑥(𝑖)+𝑏\n",
        "\n",
        "\n",
        "The formula above is how you can represent straight lines - different values of  𝑤  and  𝑏  give you different straight lines on the plot.\n",
        "Let's try to get a better intuition for this through the code blocks below. Let's start with  𝑤=100  and  𝑏=100 .\n",
        "\n",
        "Note: You can come back to this cell to adjust the model's w and b parameters\n"
      ],
      "metadata": {
        "id": "btgg4pVkHtfO"
      }
    },
    {
      "cell_type": "code",
      "source": [
        "w = 100\n",
        "b = 100\n",
        "print(f\"w: {w}\")\n",
        "print(f\"b: {b}\")"
      ],
      "metadata": {
        "colab": {
          "base_uri": "https://localhost:8080/"
        },
        "id": "odMzFVnrHgkG",
        "outputId": "53244890-bdcd-4f85-f272-ce70065a6456"
      },
      "execution_count": 11,
      "outputs": [
        {
          "output_type": "stream",
          "name": "stdout",
          "text": [
            "w: 100\n",
            "b: 100\n"
          ]
        }
      ]
    },
    {
      "cell_type": "markdown",
      "source": [
        "Now, let's compute the value of  𝑓𝑤,𝑏(𝑥(𝑖))  for your two data points. You can explicitly write this out for each data point as -\n",
        "\n",
        "for  𝑥(0) , f_wb = w * x[0] + b\n",
        "\n",
        "for  𝑥(1) , f_wb = w * x[1] + b\n",
        "\n",
        "For a large number of data points, this can get unwieldy and repetitive. So instead, you can calculate the function output in a for loop as shown in the compute_model_output function below.\n",
        "\n",
        "Note: The argument description (ndarray (m,)) describes a Numpy n-dimensional array of shape (m,). (scalar) describes an argument without dimensions, just a magnitude.\n",
        "Note: np.zero(n) will return a one-dimensional numpy array with  𝑛  entries"
      ],
      "metadata": {
        "id": "ZJdaHAbcIpxZ"
      }
    },
    {
      "cell_type": "code",
      "source": [
        "def compute_model_output(x,w,b):\n",
        "   \"\"\"\n",
        "    Computes the prediction of a linear model\n",
        "    Args:\n",
        "      x (ndarray (m,)): Data, m examples \n",
        "      w,b (scalar)    : model parameters  \n",
        "    Returns\n",
        "      y (ndarray (m,)): target values\n",
        "   \"\"\"\n",
        "   m=x.shape[0]\n",
        "   f_wb=np.zeros(m)\n",
        "   for i in range(m):\n",
        "     f_wb[i] = w * x[i] + b\n",
        "   return f_wb\n",
        "  \n",
        "\n",
        "\n",
        "\n"
      ],
      "metadata": {
        "id": "s_DsPBv6IFF8"
      },
      "execution_count": 17,
      "outputs": []
    },
    {
      "cell_type": "markdown",
      "source": [
        "Now let's call the compute_model_output function and plot the output.."
      ],
      "metadata": {
        "id": "XIE8LqvTJ-wv"
      }
    },
    {
      "cell_type": "code",
      "source": [
        "tmp_f_wb = compute_model_output(x_train, w, b)\n",
        "# Plot our model prediction\n",
        "plt.scatter(x_train, tmp_f_wb, marker='x', c='b', label='Our Prediction')\n",
        "# Plot the data points\n",
        "plt.scatter(x_train, y_train, marker='x', c='r',label='Actual values' )\n",
        "# Set the title\n",
        "plt.title(\"Housing Prices\")\n",
        "# Set the y-axis label\n",
        "plt.ylabel('Price (in 1000s of dollars)')\n",
        "# Set the x-axis label\n",
        "plt.xlabel('Size (1000 sqft)')\n",
        "plt.legend()\n",
        "plt.show()\n",
        "\n"
      ],
      "metadata": {
        "colab": {
          "base_uri": "https://localhost:8080/",
          "height": 295
        },
        "id": "opydq2F7J6xu",
        "outputId": "8dc3e8c8-57d0-4339-841f-8f7c6ddb1a74"
      },
      "execution_count": 20,
      "outputs": [
        {
          "output_type": "display_data",
          "data": {
            "text/plain": [
              "<Figure size 432x288 with 1 Axes>"
            ],
            "image/png": "[encoded data removed]"
          },
          "metadata": {
            "needs_background": "light"
          }
        }
      ]
    },
    {
      "cell_type": "markdown",
      "source": [
        "As you can see, setting  𝑤=100  and  𝑏=100  does not result in a line that fits our data."
      ],
      "metadata": {
        "id": "RKmeKKRcLwUI"
      }
    },
    {
      "cell_type": "markdown",
      "source": [
        "**Challenge**\n",
        "\n",
        "Try experimenting with different values of  𝑤  and  𝑏 . What should the values be for a line that fits our data?"
      ],
      "metadata": {
        "id": "12HQ056nL23o"
      }
    },
    {
      "cell_type": "markdown",
      "source": [
        "**Prediction**\n",
        "\n",
        "Now that we have a model, we can use it to make our original prediction. Let's predict the price of a house with 1200 sqft. Since the units of  𝑥  are in 1000's of sqft,  𝑥  is 1.2."
      ],
      "metadata": {
        "id": "yLZp_kQCMDdg"
      }
    },
    {
      "cell_type": "code",
      "source": [
        "w = 200                         \n",
        "b = 100    \n",
        "x_i = 1.2\n",
        "cost_1200sqft = w * x_i + b    \n",
        "\n",
        "print(f\"${cost_1200sqft:.0f} thousand dollars\")"
      ],
      "metadata": {
        "colab": {
          "base_uri": "https://localhost:8080/"
        },
        "id": "x3UodTo4K6v8",
        "outputId": "74f2b69f-bf63-43a4-e119-0e13cda82e4c"
      },
      "execution_count": 21,
      "outputs": [
        {
          "output_type": "stream",
          "name": "stdout",
          "text": [
            "$340 thousand dollars\n"
          ]
        }
      ]
    },
    {
      "cell_type": "markdown",
      "source": [
        "\n",
        "\n",
        "**Linear regression** builds a model which establishes a relationship between features and targets\n",
        "\n",
        "* In the example above, the feature was house size and the target was house price\n",
        "\n",
        "* for simple linear regression, the model has two parameters  𝑤  and  𝑏  whose values are 'fit' using training data.\n",
        "\n",
        "* once a model's parameters have been determined, the model can be used to make predictions on novel data.\n",
        "​"
      ],
      "metadata": {
        "id": "yR8Ug3hPMXT6"
      }
    },
    {
      "cell_type": "code",
      "source": [],
      "metadata": {
        "id": "NlEFw3zEMNkn"
      },
      "execution_count": null,
      "outputs": []
    }
  ]
}