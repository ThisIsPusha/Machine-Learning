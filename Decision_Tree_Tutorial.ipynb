{
  "nbformat": 4,
  "nbformat_minor": 0,
  "metadata": {
    "colab": {
      "provenance": []
    },
    "kernelspec": {
      "name": "python3",
      "display_name": "Python 3"
    },
    "language_info": {
      "name": "python"
    }
  },
  "cells": [
    {
      "cell_type": "markdown",
      "source": [
        "Task: Teach a machine to differentiate between images of apple and oranges.\n",
        "Approach: We'll be using an algorithm called Decision Tree. We will use a built in package scikit learn to make and train a decision tree.\n"
      ],
      "metadata": {
        "id": "bY5k758zIBmH"
      }
    },
    {
      "cell_type": "markdown",
      "source": [
        "Decision Tree - a supervised learning algorithm it takes labeled data and finds a way to separate the data into given labels.\n",
        "Since a decision tree only takes numerical data, if the data is given in categorical form convert it into numerical form."
      ],
      "metadata": {
        "id": "pimfyYk7KgCt"
      }
    },
    {
      "cell_type": "markdown",
      "source": [
        "![image.png](data:image/png;base64,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)"
      ],
      "metadata": {
        "id": "ZuAV-i6lM3H3"
      }
    },
    {
      "cell_type": "markdown",
      "source": [
        "* We will choose Red color to be represented by the number ‘0’ and Orange color to be represented by number ‘1’.\n",
        "* We will choose Smooth texture to be represented by the number ‘0’ and Rough texture to be represented by number ‘1’.\n",
        "* We will choose Apple fruit to be represented by the number ‘0’ and Orange fruit to be represented by number ‘1’.\n",
        "\n"
      ],
      "metadata": {
        "id": "Js72bUjMNTIb"
      }
    },
    {
      "cell_type": "code",
      "source": [
        "# store number features in a variable\n",
        "redcolor=0\n",
        "orangecolor=1\n",
        "smooth=0\n",
        "rough=1\n",
        "apple=0\n",
        "orange=1\n"
      ],
      "metadata": {
        "id": "uLWA7ZMbKTe7"
      },
      "execution_count": 1,
      "outputs": []
    },
    {
      "cell_type": "code",
      "source": [
        "#Put all data points in an array - features and labels in seperate arrays\n",
        "features=[[redcolor,smooth],[orangecolor,rough],[redcolor,smooth], [redcolor,smooth],[orangecolor,rough],[orangecolor,rough],[redcolor,smooth]]"
      ],
      "metadata": {
        "id": "QRKCaUymN3TM"
      },
      "execution_count": 2,
      "outputs": []
    },
    {
      "cell_type": "code",
      "source": [
        "labels=[apple,orange,apple,apple,orange,orange,apple]"
      ],
      "metadata": {
        "id": "lQYOGNcQOXYh"
      },
      "execution_count": 3,
      "outputs": []
    },
    {
      "cell_type": "code",
      "source": [
        "#import decision tree function from sklearn package and train it on your data\n",
        "from sklearn import tree\n",
        "classifier= tree.DecisionTreeClassifier()\n",
        "\n",
        "classifier.fit(features, labels)"
      ],
      "metadata": {
        "colab": {
          "base_uri": "https://localhost:8080/"
        },
        "id": "Y5-ZOHLXOaBo",
        "outputId": "cd932359-6215-4fb4-fcec-c46e240f5e6c"
      },
      "execution_count": 5,
      "outputs": [
        {
          "output_type": "execute_result",
          "data": {
            "text/plain": [
              "DecisionTreeClassifier()"
            ]
          },
          "metadata": {},
          "execution_count": 5
        }
      ]
    },
    {
      "cell_type": "code",
      "source": [
        "#take fresh input from user\n",
        "inputcolor = input(\"Enter the fruit color: \")\n",
        "inputtexture =  input(\"Enter the fruit texture: \")\n",
        "if inputcolor==\"red\" or inputcolor==\"redcolor\":\n",
        "  inputcolornew=0\n",
        "else:\n",
        "  inputcolornew=1\n",
        "\n",
        "\n",
        "if inputtexture==\"smooth\":\n",
        "  inputtexturenew=0\n",
        "else:\n",
        "  inputcolornew=1"
      ],
      "metadata": {
        "colab": {
          "base_uri": "https://localhost:8080/"
        },
        "id": "fCWgCjPDO1lm",
        "outputId": "2d3f30f8-ad7d-483e-b750-ccbfdb0f3895"
      },
      "execution_count": 7,
      "outputs": [
        {
          "name": "stdout",
          "output_type": "stream",
          "text": [
            "Enter the fruit color: red\n",
            "Enter the fruit texture: smooth\n"
          ]
        }
      ]
    },
    {
      "cell_type": "code",
      "source": [
        "#predict output for user's input and print output\n",
        "if (classifier.predict([[inputcolornew, inputtexturenew]])==0):\n",
        "  print(\"Fruit is an Apple\")\n",
        "else:\n",
        "  print(\"Fruit is an Orange\")"
      ],
      "metadata": {
        "colab": {
          "base_uri": "https://localhost:8080/"
        },
        "id": "NLUHdZUcPtQN",
        "outputId": "2d38fd1e-8b21-4597-af57-9ab71f7caeb6"
      },
      "execution_count": 8,
      "outputs": [
        {
          "output_type": "stream",
          "name": "stdout",
          "text": [
            "Fruit is an Apple\n"
          ]
        }
      ]
    },
    {
      "cell_type": "code",
      "source": [],
      "metadata": {
        "id": "6gplD1bERCfI"
      },
      "execution_count": null,
      "outputs": []
    }
  ]
}